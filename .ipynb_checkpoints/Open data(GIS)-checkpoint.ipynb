{
 "cells": [
  {
   "cell_type": "markdown",
   "id": "7719397e",
   "metadata": {
    "id": "7719397e"
   },
   "source": [
    "# ベース地図と種類\n",
    "ベース地図は、いろいろに変えることができる。ベース地図を拡大縮小できるのは、タイル型と呼ばれる画像データ\n",
    "になっているから。実際、ベース地図は、tiles=  で指定する。ベース地図を拡大縮小できるのは、タイル型と呼ばれる画像データになっているから。タイル型地図の詳しくはスライドを参照。\n",
    "\n",
    "### （1）foliumのベース地図を表示する\n",
    "base_map = folium.Map(location=[35.655616,139.338853],zoom_start=5.0)はベースマップを用意するもの。location=は表示\n",
    "の中心となる緯度経度。zoom_startは表示した当初のzoom率（大きい値ほどズームイン）。  \n",
    "- zoom_start=をいろいろ変えるとどうなるかを確認ください。\n",
    "- マウスでピンチインアウトすると、地図が拡大縮小することを確認して下さい。\n",
    "- 以下のリンクを踏んで、ベースマップを変えて表示してみてください（表示できないものもある）。\n",
    "https://www.monotalk.xyz/blog/python-folium-%E6%8C%87%E5%AE%9A%E3%81%A7%E3%81%8D%E3%82%8B-%E5%9C%B0%E5%9B%B3%E3%81%AE-%E3%82%BF%E3%82%A4%E3%83%AB-%E3%81%AB%E3%81%A4%E3%81%84%E3%81%A6/\n",
    "\n"
   ]
  },
  {
   "cell_type": "code",
   "execution_count": 1,
   "id": "14da7b36",
   "metadata": {
    "colab": {
     "base_uri": "https://localhost:8080/",
     "height": 858
    },
    "executionInfo": {
     "elapsed": 791,
     "status": "ok",
     "timestamp": 1695795249052,
     "user": {
      "displayName": "Hiroshi Uehara DM",
      "userId": "05945147751071500860"
     },
     "user_tz": -540
    },
    "id": "14da7b36",
    "outputId": "4609e6ad-5976-45f2-dd81-fd12a9b92c34"
   },
   "outputs": [
    {
     "data": {
      "text/html": [
       "<div style=\"width:100%;\"><div style=\"position:relative;width:100%;height:0;padding-bottom:60%;\"><span style=\"color:#565656\">Make this Notebook Trusted to load map: File -> Trust Notebook</span><iframe srcdoc=\"&lt;!DOCTYPE html&gt;\n",
       "&lt;head&gt;    \n",
       "    &lt;meta http-equiv=&quot;content-type&quot; content=&quot;text/html; charset=UTF-8&quot; /&gt;\n",
       "    \n",
       "        &lt;script&gt;\n",
       "            L_NO_TOUCH = false;\n",
       "            L_DISABLE_3D = false;\n",
       "        &lt;/script&gt;\n",
       "    \n",
       "    &lt;style&gt;html, body {width: 100%;height: 100%;margin: 0;padding: 0;}&lt;/style&gt;\n",
       "    &lt;style&gt;#map {position:absolute;top:0;bottom:0;right:0;left:0;}&lt;/style&gt;\n",
       "    &lt;script src=&quot;https://cdn.jsdelivr.net/npm/leaflet@1.6.0/dist/leaflet.js&quot;&gt;&lt;/script&gt;\n",
       "    &lt;script src=&quot;https://code.jquery.com/jquery-1.12.4.min.js&quot;&gt;&lt;/script&gt;\n",
       "    &lt;script src=&quot;https://maxcdn.bootstrapcdn.com/bootstrap/3.2.0/js/bootstrap.min.js&quot;&gt;&lt;/script&gt;\n",
       "    &lt;script src=&quot;https://cdnjs.cloudflare.com/ajax/libs/Leaflet.awesome-markers/2.0.2/leaflet.awesome-markers.js&quot;&gt;&lt;/script&gt;\n",
       "    &lt;link rel=&quot;stylesheet&quot; href=&quot;https://cdn.jsdelivr.net/npm/leaflet@1.6.0/dist/leaflet.css&quot;/&gt;\n",
       "    &lt;link rel=&quot;stylesheet&quot; href=&quot;https://maxcdn.bootstrapcdn.com/bootstrap/3.2.0/css/bootstrap.min.css&quot;/&gt;\n",
       "    &lt;link rel=&quot;stylesheet&quot; href=&quot;https://maxcdn.bootstrapcdn.com/bootstrap/3.2.0/css/bootstrap-theme.min.css&quot;/&gt;\n",
       "    &lt;link rel=&quot;stylesheet&quot; href=&quot;https://maxcdn.bootstrapcdn.com/font-awesome/4.6.3/css/font-awesome.min.css&quot;/&gt;\n",
       "    &lt;link rel=&quot;stylesheet&quot; href=&quot;https://cdnjs.cloudflare.com/ajax/libs/Leaflet.awesome-markers/2.0.2/leaflet.awesome-markers.css&quot;/&gt;\n",
       "    &lt;link rel=&quot;stylesheet&quot; href=&quot;https://cdn.jsdelivr.net/gh/python-visualization/folium/folium/templates/leaflet.awesome.rotate.min.css&quot;/&gt;\n",
       "    \n",
       "            &lt;meta name=&quot;viewport&quot; content=&quot;width=device-width,\n",
       "                initial-scale=1.0, maximum-scale=1.0, user-scalable=no&quot; /&gt;\n",
       "            &lt;style&gt;\n",
       "                #map_198d759623b76010aa84981ca9891b22 {\n",
       "                    position: relative;\n",
       "                    width: 100.0%;\n",
       "                    height: 100.0%;\n",
       "                    left: 0.0%;\n",
       "                    top: 0.0%;\n",
       "                }\n",
       "            &lt;/style&gt;\n",
       "        \n",
       "&lt;/head&gt;\n",
       "&lt;body&gt;    \n",
       "    \n",
       "            &lt;div class=&quot;folium-map&quot; id=&quot;map_198d759623b76010aa84981ca9891b22&quot; &gt;&lt;/div&gt;\n",
       "        \n",
       "&lt;/body&gt;\n",
       "&lt;script&gt;    \n",
       "    \n",
       "            var map_198d759623b76010aa84981ca9891b22 = L.map(\n",
       "                &quot;map_198d759623b76010aa84981ca9891b22&quot;,\n",
       "                {\n",
       "                    center: [35.655616, 139.338853],\n",
       "                    crs: L.CRS.EPSG3857,\n",
       "                    zoom: 5.0,\n",
       "                    zoomControl: true,\n",
       "                    preferCanvas: false,\n",
       "                }\n",
       "            );\n",
       "\n",
       "            \n",
       "\n",
       "        \n",
       "    \n",
       "            var tile_layer_6df892419f7774a702611eff989bae97 = L.tileLayer(\n",
       "                &quot;https://cartodb-basemaps-{s}.global.ssl.fastly.net/light_all/{z}/{x}/{y}.png&quot;,\n",
       "                {&quot;attribution&quot;: &quot;\\u0026copy; \\u003ca href=\\&quot;http://www.openstreetmap.org/copyright\\&quot;\\u003eOpenStreetMap\\u003c/a\\u003e contributors \\u0026copy; \\u003ca href=\\&quot;http://cartodb.com/attributions\\&quot;\\u003eCartoDB\\u003c/a\\u003e, CartoDB \\u003ca href =\\&quot;http://cartodb.com/attributions\\&quot;\\u003eattributions\\u003c/a\\u003e&quot;, &quot;detectRetina&quot;: false, &quot;maxNativeZoom&quot;: 18, &quot;maxZoom&quot;: 18, &quot;minZoom&quot;: 0, &quot;noWrap&quot;: false, &quot;opacity&quot;: 1, &quot;subdomains&quot;: &quot;abc&quot;, &quot;tms&quot;: false}\n",
       "            ).addTo(map_198d759623b76010aa84981ca9891b22);\n",
       "        \n",
       "&lt;/script&gt;\" style=\"position:absolute;width:100%;height:100%;left:0;top:0;border:none !important;\" allowfullscreen webkitallowfullscreen mozallowfullscreen></iframe></div></div>"
      ],
      "text/plain": [
       "<folium.folium.Map at 0x1e8ef025730>"
      ]
     },
     "execution_count": 1,
     "metadata": {},
     "output_type": "execute_result"
    }
   ],
   "source": [
    "import folium\n",
    "base_map = folium.Map(location=[35.655616,139.338853],tiles='cartodbpositron',zoom_start=5.0)\n",
    "base_map"
   ]
  },
  {
   "cell_type": "markdown",
   "id": "184591ab",
   "metadata": {
    "id": "184591ab"
   },
   "source": [
    "### (2) 国土地理院のタイル型地図をベースマップにする\n",
    "国土地理院ベースマップ。以下のリンクのベースマップにzoom level別の表示があるので、これに従って、以下のコーディングのzoom_startを変えてみると表示が様変わりするので面白い（例えば、道路地図が住宅地図に切り替わったりする）  \n",
    "https://maps.gsi.go.jp/development/ichiran.html  \n",
    "更に、上記リンクには、いろいろな地図タイルのダウンロードリンクがあるので、以下のkokudo_map=以下を変更して表示してみること（国土地理院データの場合は、tiles= に表示したい地図タイルのURLを指定する。ただし動かいない地図もある）\n",
    "\n",
    "写真地図\n",
    "URL：https://cyberjapandata.gsi.go.jp/xyz/seamlessphoto/{z}/{x}/{y}.jpg\n",
    "\n",
    "### geo coding\n",
    "地名から緯度経度もしくはその逆を計算する\n",
    "https://medium.com/shimakaze-soft-techblog/python%E3%81%A7%E5%9C%B0%E5%90%8D%E3%81%8B%E3%82%89%E4%BD%8F%E6%89%80%E3%81%A8%E5%BA%A7%E6%A8%99%E3%82%92%E5%89%B2%E3%82%8A%E5%87%BA%E3%81%99%E3%82%B8%E3%82%AA%E3%82%B3%E3%83%BC%E3%83%87%E3%82%A3%E3%83%B3%E3%82%B0%E3%82%92%E8%A9%A6%E3%81%97%E3%81%A6%E3%81%BF%E3%82%8B-61fcaeb5a093"
   ]
  },
  {
   "cell_type": "code",
   "execution_count": 2,
   "id": "2fbd7949",
   "metadata": {
    "colab": {
     "base_uri": "https://localhost:8080/",
     "height": 875
    },
    "executionInfo": {
     "elapsed": 1215,
     "status": "ok",
     "timestamp": 1695795260507,
     "user": {
      "displayName": "Hiroshi Uehara DM",
      "userId": "05945147751071500860"
     },
     "user_tz": -540
    },
    "id": "2fbd7949",
    "outputId": "6503724e-034d-4808-8eef-330f1ac3e40b"
   },
   "outputs": [
    {
     "name": "stdout",
     "output_type": "stream",
     "text": [
      "<[OK] Osm - Geocode [千代田区, 東京都, 日本]>\n"
     ]
    },
    {
     "data": {
      "text/html": [
       "<div style=\"width:100%;\"><div style=\"position:relative;width:100%;height:0;padding-bottom:60%;\"><span style=\"color:#565656\">Make this Notebook Trusted to load map: File -> Trust Notebook</span><iframe srcdoc=\"&lt;!DOCTYPE html&gt;\n",
       "&lt;head&gt;    \n",
       "    &lt;meta http-equiv=&quot;content-type&quot; content=&quot;text/html; charset=UTF-8&quot; /&gt;\n",
       "    \n",
       "        &lt;script&gt;\n",
       "            L_NO_TOUCH = false;\n",
       "            L_DISABLE_3D = false;\n",
       "        &lt;/script&gt;\n",
       "    \n",
       "    &lt;style&gt;html, body {width: 100%;height: 100%;margin: 0;padding: 0;}&lt;/style&gt;\n",
       "    &lt;style&gt;#map {position:absolute;top:0;bottom:0;right:0;left:0;}&lt;/style&gt;\n",
       "    &lt;script src=&quot;https://cdn.jsdelivr.net/npm/leaflet@1.6.0/dist/leaflet.js&quot;&gt;&lt;/script&gt;\n",
       "    &lt;script src=&quot;https://code.jquery.com/jquery-1.12.4.min.js&quot;&gt;&lt;/script&gt;\n",
       "    &lt;script src=&quot;https://maxcdn.bootstrapcdn.com/bootstrap/3.2.0/js/bootstrap.min.js&quot;&gt;&lt;/script&gt;\n",
       "    &lt;script src=&quot;https://cdnjs.cloudflare.com/ajax/libs/Leaflet.awesome-markers/2.0.2/leaflet.awesome-markers.js&quot;&gt;&lt;/script&gt;\n",
       "    &lt;link rel=&quot;stylesheet&quot; href=&quot;https://cdn.jsdelivr.net/npm/leaflet@1.6.0/dist/leaflet.css&quot;/&gt;\n",
       "    &lt;link rel=&quot;stylesheet&quot; href=&quot;https://maxcdn.bootstrapcdn.com/bootstrap/3.2.0/css/bootstrap.min.css&quot;/&gt;\n",
       "    &lt;link rel=&quot;stylesheet&quot; href=&quot;https://maxcdn.bootstrapcdn.com/bootstrap/3.2.0/css/bootstrap-theme.min.css&quot;/&gt;\n",
       "    &lt;link rel=&quot;stylesheet&quot; href=&quot;https://maxcdn.bootstrapcdn.com/font-awesome/4.6.3/css/font-awesome.min.css&quot;/&gt;\n",
       "    &lt;link rel=&quot;stylesheet&quot; href=&quot;https://cdnjs.cloudflare.com/ajax/libs/Leaflet.awesome-markers/2.0.2/leaflet.awesome-markers.css&quot;/&gt;\n",
       "    &lt;link rel=&quot;stylesheet&quot; href=&quot;https://cdn.jsdelivr.net/gh/python-visualization/folium/folium/templates/leaflet.awesome.rotate.min.css&quot;/&gt;\n",
       "    \n",
       "            &lt;meta name=&quot;viewport&quot; content=&quot;width=device-width,\n",
       "                initial-scale=1.0, maximum-scale=1.0, user-scalable=no&quot; /&gt;\n",
       "            &lt;style&gt;\n",
       "                #map_7e6e36623c4e20e8f59862db8cae121b {\n",
       "                    position: relative;\n",
       "                    width: 100.0%;\n",
       "                    height: 100.0%;\n",
       "                    left: 0.0%;\n",
       "                    top: 0.0%;\n",
       "                }\n",
       "            &lt;/style&gt;\n",
       "        \n",
       "&lt;/head&gt;\n",
       "&lt;body&gt;    \n",
       "    \n",
       "            &lt;div class=&quot;folium-map&quot; id=&quot;map_7e6e36623c4e20e8f59862db8cae121b&quot; &gt;&lt;/div&gt;\n",
       "        \n",
       "&lt;/body&gt;\n",
       "&lt;script&gt;    \n",
       "    \n",
       "            var map_7e6e36623c4e20e8f59862db8cae121b = L.map(\n",
       "                &quot;map_7e6e36623c4e20e8f59862db8cae121b&quot;,\n",
       "                {\n",
       "                    center: [35.6938097, 139.7532163],\n",
       "                    crs: L.CRS.EPSG3857,\n",
       "                    zoom: 5.0,\n",
       "                    zoomControl: true,\n",
       "                    preferCanvas: false,\n",
       "                }\n",
       "            );\n",
       "\n",
       "            \n",
       "\n",
       "        \n",
       "    \n",
       "            var tile_layer_71565fd1a796c0067739b963c4af6be2 = L.tileLayer(\n",
       "                &quot;https://cyberjapandata.gsi.go.jp/xyz/std/{z}/{x}/{y}.png&quot;,\n",
       "                {&quot;attribution&quot;: &quot;\\u6a19\\u6e96\\u5730\\u56f3&quot;, &quot;detectRetina&quot;: false, &quot;maxNativeZoom&quot;: 18, &quot;maxZoom&quot;: 18, &quot;minZoom&quot;: 0, &quot;noWrap&quot;: false, &quot;opacity&quot;: 1, &quot;subdomains&quot;: &quot;abc&quot;, &quot;tms&quot;: false}\n",
       "            ).addTo(map_7e6e36623c4e20e8f59862db8cae121b);\n",
       "        \n",
       "&lt;/script&gt;\" style=\"position:absolute;width:100%;height:100%;left:0;top:0;border:none !important;\" allowfullscreen webkitallowfullscreen mozallowfullscreen></iframe></div></div>"
      ],
      "text/plain": [
       "<folium.folium.Map at 0x21269b94f70>"
      ]
     },
     "execution_count": 2,
     "metadata": {},
     "output_type": "execute_result"
    }
   ],
   "source": [
    "import folium\n",
    "import geocoder\n",
    "ret = geocoder.osm('千代田区', timeout=5.0)\n",
    "print(ret)\n",
    "loc=ret.latlng\n",
    "kokudo_map ='https://cyberjapandata.gsi.go.jp/xyz/std/{z}/{x}/{y}.png'\n",
    "#kokudo_map ='https://cyberjapandata.gsi.go.jp/xyz/seamlessphoto/{z}/{x}/{y}.jpg'\n",
    "base_map = folium.Map(location=loc,tiles=kokudo_map,attr='標準地図',zoom_start=5.0)\n",
    "base_map"
   ]
  },
  {
   "cell_type": "markdown",
   "id": "207fbdd2",
   "metadata": {
    "id": "207fbdd2"
   },
   "source": [
    "# 地図上にランドマークをマーカー表示する\n",
    "- 構文　folium.Marker(location=loc).add_to(base_map)　に注目。add_to(base_map) ですでに作成したbase_map上に、マーカーレイヤを乗せる\n"
   ]
  },
  {
   "cell_type": "code",
   "execution_count": 3,
   "id": "684c94fa",
   "metadata": {
    "colab": {
     "base_uri": "https://localhost:8080/",
     "height": 927
    },
    "executionInfo": {
     "elapsed": 12479,
     "status": "ok",
     "timestamp": 1695795285241,
     "user": {
      "displayName": "Hiroshi Uehara DM",
      "userId": "05945147751071500860"
     },
     "user_tz": -540
    },
    "id": "684c94fa",
    "outputId": "a6d617c6-9cbc-441e-cb35-87673b5a24b3"
   },
   "outputs": [
    {
     "name": "stdout",
     "output_type": "stream",
     "text": [
      "<[OK] Osm - Geocode [千代田区, 東京都, 日本]>\n",
      "東京付近の場所を入力してください丸ビル\n",
      "<[OK] Osm - Geocode [丸の内ビルディング, 1, 丸の内二丁目, 丸の内, 千代田区, 東京都, 100-6390, 日本]>\n",
      "[35.681194649999995, 139.76386074299066]\n"
     ]
    },
    {
     "data": {
      "text/html": [
       "<div style=\"width:100%;\"><div style=\"position:relative;width:100%;height:0;padding-bottom:60%;\"><span style=\"color:#565656\">Make this Notebook Trusted to load map: File -> Trust Notebook</span><iframe srcdoc=\"&lt;!DOCTYPE html&gt;\n",
       "&lt;head&gt;    \n",
       "    &lt;meta http-equiv=&quot;content-type&quot; content=&quot;text/html; charset=UTF-8&quot; /&gt;\n",
       "    \n",
       "        &lt;script&gt;\n",
       "            L_NO_TOUCH = false;\n",
       "            L_DISABLE_3D = false;\n",
       "        &lt;/script&gt;\n",
       "    \n",
       "    &lt;style&gt;html, body {width: 100%;height: 100%;margin: 0;padding: 0;}&lt;/style&gt;\n",
       "    &lt;style&gt;#map {position:absolute;top:0;bottom:0;right:0;left:0;}&lt;/style&gt;\n",
       "    &lt;script src=&quot;https://cdn.jsdelivr.net/npm/leaflet@1.6.0/dist/leaflet.js&quot;&gt;&lt;/script&gt;\n",
       "    &lt;script src=&quot;https://code.jquery.com/jquery-1.12.4.min.js&quot;&gt;&lt;/script&gt;\n",
       "    &lt;script src=&quot;https://maxcdn.bootstrapcdn.com/bootstrap/3.2.0/js/bootstrap.min.js&quot;&gt;&lt;/script&gt;\n",
       "    &lt;script src=&quot;https://cdnjs.cloudflare.com/ajax/libs/Leaflet.awesome-markers/2.0.2/leaflet.awesome-markers.js&quot;&gt;&lt;/script&gt;\n",
       "    &lt;link rel=&quot;stylesheet&quot; href=&quot;https://cdn.jsdelivr.net/npm/leaflet@1.6.0/dist/leaflet.css&quot;/&gt;\n",
       "    &lt;link rel=&quot;stylesheet&quot; href=&quot;https://maxcdn.bootstrapcdn.com/bootstrap/3.2.0/css/bootstrap.min.css&quot;/&gt;\n",
       "    &lt;link rel=&quot;stylesheet&quot; href=&quot;https://maxcdn.bootstrapcdn.com/bootstrap/3.2.0/css/bootstrap-theme.min.css&quot;/&gt;\n",
       "    &lt;link rel=&quot;stylesheet&quot; href=&quot;https://maxcdn.bootstrapcdn.com/font-awesome/4.6.3/css/font-awesome.min.css&quot;/&gt;\n",
       "    &lt;link rel=&quot;stylesheet&quot; href=&quot;https://cdnjs.cloudflare.com/ajax/libs/Leaflet.awesome-markers/2.0.2/leaflet.awesome-markers.css&quot;/&gt;\n",
       "    &lt;link rel=&quot;stylesheet&quot; href=&quot;https://cdn.jsdelivr.net/gh/python-visualization/folium/folium/templates/leaflet.awesome.rotate.min.css&quot;/&gt;\n",
       "    \n",
       "            &lt;meta name=&quot;viewport&quot; content=&quot;width=device-width,\n",
       "                initial-scale=1.0, maximum-scale=1.0, user-scalable=no&quot; /&gt;\n",
       "            &lt;style&gt;\n",
       "                #map_9d69cbb08b3748c192bf83bfbf666b5c {\n",
       "                    position: relative;\n",
       "                    width: 100.0%;\n",
       "                    height: 100.0%;\n",
       "                    left: 0.0%;\n",
       "                    top: 0.0%;\n",
       "                }\n",
       "            &lt;/style&gt;\n",
       "        \n",
       "&lt;/head&gt;\n",
       "&lt;body&gt;    \n",
       "    \n",
       "            &lt;div class=&quot;folium-map&quot; id=&quot;map_9d69cbb08b3748c192bf83bfbf666b5c&quot; &gt;&lt;/div&gt;\n",
       "        \n",
       "&lt;/body&gt;\n",
       "&lt;script&gt;    \n",
       "    \n",
       "            var map_9d69cbb08b3748c192bf83bfbf666b5c = L.map(\n",
       "                &quot;map_9d69cbb08b3748c192bf83bfbf666b5c&quot;,\n",
       "                {\n",
       "                    center: [35.6938097, 139.7532163],\n",
       "                    crs: L.CRS.EPSG3857,\n",
       "                    zoom: 13.0,\n",
       "                    zoomControl: true,\n",
       "                    preferCanvas: false,\n",
       "                }\n",
       "            );\n",
       "\n",
       "            \n",
       "\n",
       "        \n",
       "    \n",
       "            var tile_layer_259df31fa50a5620fd314c4c9267cac9 = L.tileLayer(\n",
       "                &quot;https://cyberjapandata.gsi.go.jp/xyz/std/{z}/{x}/{y}.png&quot;,\n",
       "                {&quot;attribution&quot;: &quot;\\u6a19\\u6e96\\u5730\\u56f3&quot;, &quot;detectRetina&quot;: false, &quot;maxNativeZoom&quot;: 18, &quot;maxZoom&quot;: 18, &quot;minZoom&quot;: 0, &quot;noWrap&quot;: false, &quot;opacity&quot;: 1, &quot;subdomains&quot;: &quot;abc&quot;, &quot;tms&quot;: false}\n",
       "            ).addTo(map_9d69cbb08b3748c192bf83bfbf666b5c);\n",
       "        \n",
       "    \n",
       "            var marker_c3ba67089402c4dec89eb5af3183089e = L.marker(\n",
       "                [35.681194649999995, 139.76386074299066],\n",
       "                {}\n",
       "            ).addTo(map_9d69cbb08b3748c192bf83bfbf666b5c);\n",
       "        \n",
       "&lt;/script&gt;\" style=\"position:absolute;width:100%;height:100%;left:0;top:0;border:none !important;\" allowfullscreen webkitallowfullscreen mozallowfullscreen></iframe></div></div>"
      ],
      "text/plain": [
       "<folium.folium.Map at 0x21269b94a00>"
      ]
     },
     "execution_count": 3,
     "metadata": {},
     "output_type": "execute_result"
    }
   ],
   "source": [
    "import folium\n",
    "import json\n",
    "import pandas as pd\n",
    "import geocoder\n",
    "\n",
    "\n",
    "\n",
    "ret = geocoder.osm('千代田区', timeout=5.0)\n",
    "print(ret)\n",
    "loc=ret.latlng\n",
    "kokudo_map ='https://cyberjapandata.gsi.go.jp/xyz/std/{z}/{x}/{y}.png'\n",
    "#kokudo_map ='https://cyberjapandata.gsi.go.jp/xyz/seamlessphoto/{z}/{x}/{y}.jpg'\n",
    "base_map = folium.Map(location=loc,tiles=kokudo_map,attr='標準地図',zoom_start=13.0)\n",
    "\n",
    "marker_location = input('東京付近の場所を入力してください')\n",
    "ret = geocoder.osm(marker_location, timeout=5.0)\n",
    "print(ret)\n",
    "loc=ret.latlng\n",
    "print(loc)\n",
    "folium.Marker(location=loc).add_to(base_map)\n",
    "base_map"
   ]
  },
  {
   "cell_type": "markdown",
   "id": "0852bc14",
   "metadata": {
    "id": "0852bc14"
   },
   "source": [
    "# 緯度経度集合の図形（コロプレス図）を乗せる  \n",
    "1. 浦和を中心に埼玉県のベース地図を表示\n",
    "2. ベース地図上に埼玉県を表す図形のレイヤを乗せる。レイヤを乗せるので、上記のマーカーと同様に.add_to(base_map)を使う。\n",
    "3. json.load(open('saitama.geojson','r')))のコメントを外すと、埼玉県の図形が表示される。\n",
    "4. json.load(open('saitama2.geojson','r'のコメントを外すと、埼玉県内の行政区画の図形が表示される。\n",
    "\n",
    "- 市区町村ポリゴン　https://github.com/smartnews-smri/japan-topography/tree/main/data/municipality/geojson/s0010\n"
   ]
  },
  {
   "cell_type": "code",
   "execution_count": 6,
   "id": "d5aad4fd",
   "metadata": {
    "colab": {
     "base_uri": "https://localhost:8080/",
     "height": 875
    },
    "executionInfo": {
     "elapsed": 704,
     "status": "ok",
     "timestamp": 1695795312434,
     "user": {
      "displayName": "Hiroshi Uehara DM",
      "userId": "05945147751071500860"
     },
     "user_tz": -540
    },
    "id": "d5aad4fd",
    "outputId": "9046304c-0213-4994-9dae-22401e3c041e"
   },
   "outputs": [
    {
     "name": "stdout",
     "output_type": "stream",
     "text": [
      "<[OK] Osm - Geocode [浦和, さいたま草加線, 高砂一丁目, 浦和区, さいたま市, 埼玉県, 330-0055, 日本]>\n"
     ]
    },
    {
     "data": {
      "text/html": [
       "<div style=\"width:100%;\"><div style=\"position:relative;width:100%;height:0;padding-bottom:60%;\"><span style=\"color:#565656\">Make this Notebook Trusted to load map: File -> Trust Notebook</span><iframe srcdoc=\"&lt;!DOCTYPE html&gt;\n",
       "&lt;head&gt;    \n",
       "    &lt;meta http-equiv=&quot;content-type&quot; content=&quot;text/html; charset=UTF-8&quot; /&gt;\n",
       "    \n",
       "        &lt;script&gt;\n",
       "            L_NO_TOUCH = false;\n",
       "            L_DISABLE_3D = false;\n",
       "        &lt;/script&gt;\n",
       "    \n",
       "    &lt;style&gt;html, body {width: 100%;height: 100%;margin: 0;padding: 0;}&lt;/style&gt;\n",
       "    &lt;style&gt;#map {position:absolute;top:0;bottom:0;right:0;left:0;}&lt;/style&gt;\n",
       "    &lt;script src=&quot;https://cdn.jsdelivr.net/npm/leaflet@1.6.0/dist/leaflet.js&quot;&gt;&lt;/script&gt;\n",
       "    &lt;script src=&quot;https://code.jquery.com/jquery-1.12.4.min.js&quot;&gt;&lt;/script&gt;\n",
       "    &lt;script src=&quot;https://maxcdn.bootstrapcdn.com/bootstrap/3.2.0/js/bootstrap.min.js&quot;&gt;&lt;/script&gt;\n",
       "    &lt;script src=&quot;https://cdnjs.cloudflare.com/ajax/libs/Leaflet.awesome-markers/2.0.2/leaflet.awesome-markers.js&quot;&gt;&lt;/script&gt;\n",
       "    &lt;link rel=&quot;stylesheet&quot; href=&quot;https://cdn.jsdelivr.net/npm/leaflet@1.6.0/dist/leaflet.css&quot;/&gt;\n",
       "    &lt;link rel=&quot;stylesheet&quot; href=&quot;https://maxcdn.bootstrapcdn.com/bootstrap/3.2.0/css/bootstrap.min.css&quot;/&gt;\n",
       "    &lt;link rel=&quot;stylesheet&quot; href=&quot;https://maxcdn.bootstrapcdn.com/bootstrap/3.2.0/css/bootstrap-theme.min.css&quot;/&gt;\n",
       "    &lt;link rel=&quot;stylesheet&quot; href=&quot;https://maxcdn.bootstrapcdn.com/font-awesome/4.6.3/css/font-awesome.min.css&quot;/&gt;\n",
       "    &lt;link rel=&quot;stylesheet&quot; href=&quot;https://cdnjs.cloudflare.com/ajax/libs/Leaflet.awesome-markers/2.0.2/leaflet.awesome-markers.css&quot;/&gt;\n",
       "    &lt;link rel=&quot;stylesheet&quot; href=&quot;https://cdn.jsdelivr.net/gh/python-visualization/folium/folium/templates/leaflet.awesome.rotate.min.css&quot;/&gt;\n",
       "    \n",
       "            &lt;meta name=&quot;viewport&quot; content=&quot;width=device-width,\n",
       "                initial-scale=1.0, maximum-scale=1.0, user-scalable=no&quot; /&gt;\n",
       "            &lt;style&gt;\n",
       "                #map_7735e9d4e8f4918c9cff003505c40867 {\n",
       "                    position: relative;\n",
       "                    width: 100.0%;\n",
       "                    height: 100.0%;\n",
       "                    left: 0.0%;\n",
       "                    top: 0.0%;\n",
       "                }\n",
       "            &lt;/style&gt;\n",
       "        \n",
       "&lt;/head&gt;\n",
       "&lt;body&gt;    \n",
       "    \n",
       "            &lt;div class=&quot;folium-map&quot; id=&quot;map_7735e9d4e8f4918c9cff003505c40867&quot; &gt;&lt;/div&gt;\n",
       "        \n",
       "&lt;/body&gt;\n",
       "&lt;script&gt;    \n",
       "    \n",
       "            var map_7735e9d4e8f4918c9cff003505c40867 = L.map(\n",
       "                &quot;map_7735e9d4e8f4918c9cff003505c40867&quot;,\n",
       "                {\n",
       "                    center: [35.8589883, 139.6571882],\n",
       "                    crs: L.CRS.EPSG3857,\n",
       "                    zoom: 9.0,\n",
       "                    zoomControl: true,\n",
       "                    preferCanvas: false,\n",
       "                }\n",
       "            );\n",
       "\n",
       "            \n",
       "\n",
       "        \n",
       "    \n",
       "            var tile_layer_1acbd7eecfd5d6058f62086d02081922 = L.tileLayer(\n",
       "                &quot;https://cyberjapandata.gsi.go.jp/xyz/std/{z}/{x}/{y}.png&quot;,\n",
       "                {&quot;attribution&quot;: &quot;\\u6a19\\u6e96\\u5730\\u56f3&quot;, &quot;detectRetina&quot;: false, &quot;maxNativeZoom&quot;: 18, &quot;maxZoom&quot;: 18, &quot;minZoom&quot;: 0, &quot;noWrap&quot;: false, &quot;opacity&quot;: 1, &quot;subdomains&quot;: &quot;abc&quot;, &quot;tms&quot;: false}\n",
       "            ).addTo(map_7735e9d4e8f4918c9cff003505c40867);\n",
       "        \n",
       "&lt;/script&gt;\" style=\"position:absolute;width:100%;height:100%;left:0;top:0;border:none !important;\" allowfullscreen webkitallowfullscreen mozallowfullscreen></iframe></div></div>"
      ],
      "text/plain": [
       "<folium.folium.Map at 0x2126c8021c0>"
      ]
     },
     "execution_count": 6,
     "metadata": {},
     "output_type": "execute_result"
    }
   ],
   "source": [
    "import folium\n",
    "import json\n",
    "import pandas as pd\n",
    "import geocoder\n",
    "\n",
    "ret = geocoder.osm('浦和', timeout=5.0)\n",
    "print(ret)\n",
    "loc=ret.latlng\n",
    "kokudo_map ='https://cyberjapandata.gsi.go.jp/xyz/std/{z}/{x}/{y}.png'\n",
    "base_map = folium.Map(location=loc,tiles=kokudo_map,attr='標準地図',zoom_start=9.0)\n",
    "#folium.Choropleth(geo_data=json.load(open('saitama.geojson','r'))).add_to(base_map)\n",
    "#folium.Choropleth(geo_data=json.load(open('saitama2.geojson','r',encoding='utf-8'))).add_to(base_map)\n",
    "base_map"
   ]
  },
  {
   "cell_type": "code",
   "execution_count": null,
   "id": "ff693d24",
   "metadata": {
    "id": "ff693d24"
   },
   "outputs": [],
   "source": [
    "### Geojson の中身を表示してみる"
   ]
  },
  {
   "cell_type": "code",
   "execution_count": 8,
   "id": "Y-IQs2Y_SYjT",
   "metadata": {
    "colab": {
     "base_uri": "https://localhost:8080/"
    },
    "executionInfo": {
     "elapsed": 29613,
     "status": "ok",
     "timestamp": 1695795746966,
     "user": {
      "displayName": "Hiroshi Uehara DM",
      "userId": "05945147751071500860"
     },
     "user_tz": -540
    },
    "id": "Y-IQs2Y_SYjT",
    "outputId": "a8533160-a66b-4e47-d3f5-ec2273fa2c27"
   },
   "outputs": [
    {
     "name": "stdout",
     "output_type": "stream",
     "text": [
      "Mounted at /content/drive\n"
     ]
    }
   ],
   "source": [
    "from google.colab import drive\n",
    "drive.mount('/content/drive')"
   ]
  },
  {
   "cell_type": "code",
   "execution_count": 7,
   "id": "aee6081a",
   "metadata": {
    "colab": {
     "base_uri": "https://localhost:8080/"
    },
    "executionInfo": {
     "elapsed": 1061,
     "status": "ok",
     "timestamp": 1695795900873,
     "user": {
      "displayName": "Hiroshi Uehara DM",
      "userId": "05945147751071500860"
     },
     "user_tz": -540
    },
    "id": "aee6081a",
    "outputId": "e3794b26-3cac-4a45-884e-10aff3caec69"
   },
   "outputs": [
    {
     "ename": "FileNotFoundError",
     "evalue": "[Errno 2] No such file or directory: 'Saitama.geojson'",
     "output_type": "error",
     "traceback": [
      "\u001b[1;31m---------------------------------------------------------------------------\u001b[0m",
      "\u001b[1;31mFileNotFoundError\u001b[0m                         Traceback (most recent call last)",
      "Input \u001b[1;32mIn [7]\u001b[0m, in \u001b[0;36m<cell line: 3>\u001b[1;34m()\u001b[0m\n\u001b[0;32m      1\u001b[0m \u001b[38;5;28;01mimport\u001b[39;00m \u001b[38;5;21;01mjson\u001b[39;00m\n\u001b[0;32m      2\u001b[0m \u001b[38;5;66;03m#f = open('/content/drive/MyDrive/saitama_pref_python/programs/data/Saitama.geojson','r')\u001b[39;00m\n\u001b[1;32m----> 3\u001b[0m f \u001b[38;5;241m=\u001b[39m \u001b[38;5;28;43mopen\u001b[39;49m\u001b[43m(\u001b[49m\u001b[38;5;124;43m'\u001b[39;49m\u001b[38;5;124;43mSaitama.geojson\u001b[39;49m\u001b[38;5;124;43m'\u001b[39;49m\u001b[43m,\u001b[49m\u001b[38;5;124;43m'\u001b[39;49m\u001b[38;5;124;43mr\u001b[39;49m\u001b[38;5;124;43m'\u001b[39;49m\u001b[43m)\u001b[49m\n\u001b[0;32m      4\u001b[0m geojson \u001b[38;5;241m=\u001b[39m json\u001b[38;5;241m.\u001b[39mload(f)\n\u001b[0;32m      6\u001b[0m \u001b[38;5;28mprint\u001b[39m(geojson)\n",
      "\u001b[1;31mFileNotFoundError\u001b[0m: [Errno 2] No such file or directory: 'Saitama.geojson'"
     ]
    }
   ],
   "source": [
    "import json\n",
    "#f = open('/content/drive/MyDrive/saitama_pref_python/programs/data/Saitama.geojson','r')\n",
    "f = open('Saitama.geojson','r')\n",
    "geojson = json.load(f)\n",
    "\n",
    "print(geojson)"
   ]
  },
  {
   "cell_type": "markdown",
   "id": "b68bfc76",
   "metadata": {
    "id": "b68bfc76"
   },
   "source": [
    "## 埼玉県の行政区間のGeojsonから市区町村名一覧を取り出す"
   ]
  },
  {
   "cell_type": "code",
   "execution_count": 12,
   "id": "ce6440de",
   "metadata": {
    "colab": {
     "base_uri": "https://localhost:8080/"
    },
    "executionInfo": {
     "elapsed": 801,
     "status": "ok",
     "timestamp": 1695795957268,
     "user": {
      "displayName": "Hiroshi Uehara DM",
      "userId": "05945147751071500860"
     },
     "user_tz": -540
    },
    "id": "ce6440de",
    "outputId": "8b7a0cbd-d463-43eb-f7ae-4bf34a027e75"
   },
   "outputs": [
    {
     "name": "stdout",
     "output_type": "stream",
     "text": [
      "埼玉県さいたま市西区\n",
      "埼玉県さいたま市北区\n",
      "埼玉県さいたま市大宮区\n",
      "埼玉県さいたま市見沼区\n",
      "埼玉県さいたま市中央区\n",
      "埼玉県さいたま市桜区\n",
      "埼玉県さいたま市浦和区\n",
      "埼玉県さいたま市南区\n",
      "埼玉県さいたま市緑区\n",
      "埼玉県さいたま市岩槻区\n",
      "埼玉県川越市\n",
      "埼玉県熊谷市\n",
      "埼玉県川口市\n",
      "埼玉県行田市\n",
      "埼玉県秩父市\n",
      "埼玉県所沢市\n",
      "埼玉県飯能市\n",
      "埼玉県加須市\n",
      "埼玉県本庄市\n",
      "埼玉県東松山市\n",
      "埼玉県春日部市\n",
      "埼玉県狭山市\n",
      "埼玉県羽生市\n",
      "埼玉県鴻巣市\n",
      "埼玉県深谷市\n",
      "埼玉県上尾市\n",
      "埼玉県草加市\n",
      "埼玉県越谷市\n",
      "埼玉県蕨市\n",
      "埼玉県戸田市\n",
      "埼玉県入間市\n",
      "埼玉県朝霞市\n",
      "埼玉県志木市\n",
      "埼玉県和光市\n",
      "埼玉県新座市\n",
      "埼玉県桶川市\n",
      "埼玉県久喜市\n",
      "埼玉県北本市\n",
      "埼玉県八潮市\n",
      "埼玉県富士見市\n",
      "埼玉県三郷市\n",
      "埼玉県蓮田市\n",
      "埼玉県坂戸市\n",
      "埼玉県幸手市\n",
      "埼玉県鶴ケ島市\n",
      "埼玉県日高市\n",
      "埼玉県吉川市\n",
      "埼玉県ふじみ野市\n",
      "埼玉県白岡市\n",
      "埼玉県北足立郡伊奈町\n",
      "埼玉県入間郡三芳町\n",
      "埼玉県入間郡毛呂山町\n",
      "埼玉県入間郡越生町\n",
      "埼玉県比企郡滑川町\n",
      "埼玉県比企郡嵐山町\n",
      "埼玉県比企郡小川町\n",
      "埼玉県比企郡川島町\n",
      "埼玉県比企郡吉見町\n",
      "埼玉県比企郡鳩山町\n",
      "埼玉県比企郡ときがわ町\n",
      "埼玉県秩父郡横瀬町\n",
      "埼玉県秩父郡皆野町\n",
      "埼玉県秩父郡長瀞町\n",
      "埼玉県秩父郡小鹿野町\n",
      "埼玉県秩父郡東秩父村\n",
      "埼玉県児玉郡美里町\n",
      "埼玉県児玉郡神川町\n",
      "埼玉県児玉郡上里町\n",
      "埼玉県大里郡寄居町\n",
      "埼玉県南埼玉郡宮代町\n",
      "埼玉県北葛飾郡杉戸町\n",
      "埼玉県北葛飾郡松伏町\n"
     ]
    }
   ],
   "source": [
    "#kyoto2 = json.load(open('/content/drive/MyDrive/saitama_pref_python/programs/data/saitama2.geojson','r',encoding=\"utf-8_sig\"))\n",
    "kyoto2 = json.load(open('saitama2.geojson','r',encoding=\"utf-8_sig\"))\n",
    "for row in kyoto2['features']:\n",
    "    print(row['properties']['name'])\n"
   ]
  },
  {
   "cell_type": "markdown",
   "id": "741757a1",
   "metadata": {
    "id": "741757a1"
   },
   "source": [
    "## コロプレス図の色分け\n",
    "- saitama_stats.csvを開けてみると、カラム’市区町村’にマッチングする名前が記載されいる。  \n",
    "- saitama.geojson中には、上記の通りproperties': {'name': '　以下にマッチングする名前が記載されている。\n",
    "- 色分けしたいデータはここでは、世帯数\n",
    "\n",
    "以上のケースでのマッチングのコーディングは以下の通り。これをキーマッチングという。ここでのキーは、csv, geojsonの市区町村\n",
    "\n",
    "#### 埼玉県の市区町村データはこちらを参考にした  \n",
    "- ただし、上記geojsonの市区町村キーに合わせるようにcsvを編集する必要がある\n",
    "- 更に、カンマ区切りの数値だと isnan エラーになるので、csv上でカンマなしの数値に編集した。\n",
    "\n",
    "https://opendata-web.site/popuration/26/\n",
    "\n"
   ]
  },
  {
   "cell_type": "code",
   "execution_count": 8,
   "id": "3f52cfe7",
   "metadata": {
    "colab": {
     "base_uri": "https://localhost:8080/",
     "height": 1000,
     "output_embedded_package_id": "1swJwe112tX0T5SaWG80Y1BvAw3HKrYsJ"
    },
    "executionInfo": {
     "elapsed": 4313,
     "status": "ok",
     "timestamp": 1695796026419,
     "user": {
      "displayName": "Hiroshi Uehara DM",
      "userId": "05945147751071500860"
     },
     "user_tz": -540
    },
    "id": "3f52cfe7",
    "outputId": "e8c97131-414d-40fa-8ec3-21cdf9888a22"
   },
   "outputs": [
    {
     "ename": "FileNotFoundError",
     "evalue": "[Errno 2] No such file or directory: 'saitama_stats.csv'",
     "output_type": "error",
     "traceback": [
      "\u001b[1;31m---------------------------------------------------------------------------\u001b[0m",
      "\u001b[1;31mFileNotFoundError\u001b[0m                         Traceback (most recent call last)",
      "Input \u001b[1;32mIn [8]\u001b[0m, in \u001b[0;36m<cell line: 6>\u001b[1;34m()\u001b[0m\n\u001b[0;32m      4\u001b[0m \u001b[38;5;28;01mimport\u001b[39;00m \u001b[38;5;21;01mgeocoder\u001b[39;00m\n\u001b[0;32m      5\u001b[0m \u001b[38;5;66;03m#df = pd.read_csv('/content/drive/MyDrive/saitama_pref_python/programs/data/saitama_stats.csv',encoding='ms932', sep=',',skiprows=0)\u001b[39;00m\n\u001b[1;32m----> 6\u001b[0m df \u001b[38;5;241m=\u001b[39m \u001b[43mpd\u001b[49m\u001b[38;5;241;43m.\u001b[39;49m\u001b[43mread_csv\u001b[49m\u001b[43m(\u001b[49m\u001b[38;5;124;43m'\u001b[39;49m\u001b[38;5;124;43msaitama_stats.csv\u001b[39;49m\u001b[38;5;124;43m'\u001b[39;49m\u001b[43m,\u001b[49m\u001b[43mencoding\u001b[49m\u001b[38;5;241;43m=\u001b[39;49m\u001b[38;5;124;43m'\u001b[39;49m\u001b[38;5;124;43mms932\u001b[39;49m\u001b[38;5;124;43m'\u001b[39;49m\u001b[43m,\u001b[49m\u001b[43m \u001b[49m\u001b[43msep\u001b[49m\u001b[38;5;241;43m=\u001b[39;49m\u001b[38;5;124;43m'\u001b[39;49m\u001b[38;5;124;43m,\u001b[39;49m\u001b[38;5;124;43m'\u001b[39;49m\u001b[43m,\u001b[49m\u001b[43mskiprows\u001b[49m\u001b[38;5;241;43m=\u001b[39;49m\u001b[38;5;241;43m0\u001b[39;49m\u001b[43m)\u001b[49m\n\u001b[0;32m      7\u001b[0m \u001b[38;5;28mprint\u001b[39m(df)\n\u001b[0;32m      8\u001b[0m ret \u001b[38;5;241m=\u001b[39m geocoder\u001b[38;5;241m.\u001b[39mosm(\u001b[38;5;124m'\u001b[39m\u001b[38;5;124m浦和\u001b[39m\u001b[38;5;124m'\u001b[39m, timeout\u001b[38;5;241m=\u001b[39m\u001b[38;5;241m5.0\u001b[39m)\n",
      "File \u001b[1;32mC:\\ProgramData\\Anaconda3\\lib\\site-packages\\pandas\\util\\_decorators.py:311\u001b[0m, in \u001b[0;36mdeprecate_nonkeyword_arguments.<locals>.decorate.<locals>.wrapper\u001b[1;34m(*args, **kwargs)\u001b[0m\n\u001b[0;32m    305\u001b[0m \u001b[38;5;28;01mif\u001b[39;00m \u001b[38;5;28mlen\u001b[39m(args) \u001b[38;5;241m>\u001b[39m num_allow_args:\n\u001b[0;32m    306\u001b[0m     warnings\u001b[38;5;241m.\u001b[39mwarn(\n\u001b[0;32m    307\u001b[0m         msg\u001b[38;5;241m.\u001b[39mformat(arguments\u001b[38;5;241m=\u001b[39marguments),\n\u001b[0;32m    308\u001b[0m         \u001b[38;5;167;01mFutureWarning\u001b[39;00m,\n\u001b[0;32m    309\u001b[0m         stacklevel\u001b[38;5;241m=\u001b[39mstacklevel,\n\u001b[0;32m    310\u001b[0m     )\n\u001b[1;32m--> 311\u001b[0m \u001b[38;5;28;01mreturn\u001b[39;00m func(\u001b[38;5;241m*\u001b[39margs, \u001b[38;5;241m*\u001b[39m\u001b[38;5;241m*\u001b[39mkwargs)\n",
      "File \u001b[1;32mC:\\ProgramData\\Anaconda3\\lib\\site-packages\\pandas\\io\\parsers\\readers.py:680\u001b[0m, in \u001b[0;36mread_csv\u001b[1;34m(filepath_or_buffer, sep, delimiter, header, names, index_col, usecols, squeeze, prefix, mangle_dupe_cols, dtype, engine, converters, true_values, false_values, skipinitialspace, skiprows, skipfooter, nrows, na_values, keep_default_na, na_filter, verbose, skip_blank_lines, parse_dates, infer_datetime_format, keep_date_col, date_parser, dayfirst, cache_dates, iterator, chunksize, compression, thousands, decimal, lineterminator, quotechar, quoting, doublequote, escapechar, comment, encoding, encoding_errors, dialect, error_bad_lines, warn_bad_lines, on_bad_lines, delim_whitespace, low_memory, memory_map, float_precision, storage_options)\u001b[0m\n\u001b[0;32m    665\u001b[0m kwds_defaults \u001b[38;5;241m=\u001b[39m _refine_defaults_read(\n\u001b[0;32m    666\u001b[0m     dialect,\n\u001b[0;32m    667\u001b[0m     delimiter,\n\u001b[1;32m   (...)\u001b[0m\n\u001b[0;32m    676\u001b[0m     defaults\u001b[38;5;241m=\u001b[39m{\u001b[38;5;124m\"\u001b[39m\u001b[38;5;124mdelimiter\u001b[39m\u001b[38;5;124m\"\u001b[39m: \u001b[38;5;124m\"\u001b[39m\u001b[38;5;124m,\u001b[39m\u001b[38;5;124m\"\u001b[39m},\n\u001b[0;32m    677\u001b[0m )\n\u001b[0;32m    678\u001b[0m kwds\u001b[38;5;241m.\u001b[39mupdate(kwds_defaults)\n\u001b[1;32m--> 680\u001b[0m \u001b[38;5;28;01mreturn\u001b[39;00m \u001b[43m_read\u001b[49m\u001b[43m(\u001b[49m\u001b[43mfilepath_or_buffer\u001b[49m\u001b[43m,\u001b[49m\u001b[43m \u001b[49m\u001b[43mkwds\u001b[49m\u001b[43m)\u001b[49m\n",
      "File \u001b[1;32mC:\\ProgramData\\Anaconda3\\lib\\site-packages\\pandas\\io\\parsers\\readers.py:575\u001b[0m, in \u001b[0;36m_read\u001b[1;34m(filepath_or_buffer, kwds)\u001b[0m\n\u001b[0;32m    572\u001b[0m _validate_names(kwds\u001b[38;5;241m.\u001b[39mget(\u001b[38;5;124m\"\u001b[39m\u001b[38;5;124mnames\u001b[39m\u001b[38;5;124m\"\u001b[39m, \u001b[38;5;28;01mNone\u001b[39;00m))\n\u001b[0;32m    574\u001b[0m \u001b[38;5;66;03m# Create the parser.\u001b[39;00m\n\u001b[1;32m--> 575\u001b[0m parser \u001b[38;5;241m=\u001b[39m TextFileReader(filepath_or_buffer, \u001b[38;5;241m*\u001b[39m\u001b[38;5;241m*\u001b[39mkwds)\n\u001b[0;32m    577\u001b[0m \u001b[38;5;28;01mif\u001b[39;00m chunksize \u001b[38;5;129;01mor\u001b[39;00m iterator:\n\u001b[0;32m    578\u001b[0m     \u001b[38;5;28;01mreturn\u001b[39;00m parser\n",
      "File \u001b[1;32mC:\\ProgramData\\Anaconda3\\lib\\site-packages\\pandas\\io\\parsers\\readers.py:933\u001b[0m, in \u001b[0;36mTextFileReader.__init__\u001b[1;34m(self, f, engine, **kwds)\u001b[0m\n\u001b[0;32m    930\u001b[0m     \u001b[38;5;28mself\u001b[39m\u001b[38;5;241m.\u001b[39moptions[\u001b[38;5;124m\"\u001b[39m\u001b[38;5;124mhas_index_names\u001b[39m\u001b[38;5;124m\"\u001b[39m] \u001b[38;5;241m=\u001b[39m kwds[\u001b[38;5;124m\"\u001b[39m\u001b[38;5;124mhas_index_names\u001b[39m\u001b[38;5;124m\"\u001b[39m]\n\u001b[0;32m    932\u001b[0m \u001b[38;5;28mself\u001b[39m\u001b[38;5;241m.\u001b[39mhandles: IOHandles \u001b[38;5;241m|\u001b[39m \u001b[38;5;28;01mNone\u001b[39;00m \u001b[38;5;241m=\u001b[39m \u001b[38;5;28;01mNone\u001b[39;00m\n\u001b[1;32m--> 933\u001b[0m \u001b[38;5;28mself\u001b[39m\u001b[38;5;241m.\u001b[39m_engine \u001b[38;5;241m=\u001b[39m \u001b[38;5;28;43mself\u001b[39;49m\u001b[38;5;241;43m.\u001b[39;49m\u001b[43m_make_engine\u001b[49m\u001b[43m(\u001b[49m\u001b[43mf\u001b[49m\u001b[43m,\u001b[49m\u001b[43m \u001b[49m\u001b[38;5;28;43mself\u001b[39;49m\u001b[38;5;241;43m.\u001b[39;49m\u001b[43mengine\u001b[49m\u001b[43m)\u001b[49m\n",
      "File \u001b[1;32mC:\\ProgramData\\Anaconda3\\lib\\site-packages\\pandas\\io\\parsers\\readers.py:1217\u001b[0m, in \u001b[0;36mTextFileReader._make_engine\u001b[1;34m(self, f, engine)\u001b[0m\n\u001b[0;32m   1213\u001b[0m     mode \u001b[38;5;241m=\u001b[39m \u001b[38;5;124m\"\u001b[39m\u001b[38;5;124mrb\u001b[39m\u001b[38;5;124m\"\u001b[39m\n\u001b[0;32m   1214\u001b[0m \u001b[38;5;66;03m# error: No overload variant of \"get_handle\" matches argument types\u001b[39;00m\n\u001b[0;32m   1215\u001b[0m \u001b[38;5;66;03m# \"Union[str, PathLike[str], ReadCsvBuffer[bytes], ReadCsvBuffer[str]]\"\u001b[39;00m\n\u001b[0;32m   1216\u001b[0m \u001b[38;5;66;03m# , \"str\", \"bool\", \"Any\", \"Any\", \"Any\", \"Any\", \"Any\"\u001b[39;00m\n\u001b[1;32m-> 1217\u001b[0m \u001b[38;5;28mself\u001b[39m\u001b[38;5;241m.\u001b[39mhandles \u001b[38;5;241m=\u001b[39m \u001b[43mget_handle\u001b[49m\u001b[43m(\u001b[49m\u001b[43m  \u001b[49m\u001b[38;5;66;43;03m# type: ignore[call-overload]\u001b[39;49;00m\n\u001b[0;32m   1218\u001b[0m \u001b[43m    \u001b[49m\u001b[43mf\u001b[49m\u001b[43m,\u001b[49m\n\u001b[0;32m   1219\u001b[0m \u001b[43m    \u001b[49m\u001b[43mmode\u001b[49m\u001b[43m,\u001b[49m\n\u001b[0;32m   1220\u001b[0m \u001b[43m    \u001b[49m\u001b[43mencoding\u001b[49m\u001b[38;5;241;43m=\u001b[39;49m\u001b[38;5;28;43mself\u001b[39;49m\u001b[38;5;241;43m.\u001b[39;49m\u001b[43moptions\u001b[49m\u001b[38;5;241;43m.\u001b[39;49m\u001b[43mget\u001b[49m\u001b[43m(\u001b[49m\u001b[38;5;124;43m\"\u001b[39;49m\u001b[38;5;124;43mencoding\u001b[39;49m\u001b[38;5;124;43m\"\u001b[39;49m\u001b[43m,\u001b[49m\u001b[43m \u001b[49m\u001b[38;5;28;43;01mNone\u001b[39;49;00m\u001b[43m)\u001b[49m\u001b[43m,\u001b[49m\n\u001b[0;32m   1221\u001b[0m \u001b[43m    \u001b[49m\u001b[43mcompression\u001b[49m\u001b[38;5;241;43m=\u001b[39;49m\u001b[38;5;28;43mself\u001b[39;49m\u001b[38;5;241;43m.\u001b[39;49m\u001b[43moptions\u001b[49m\u001b[38;5;241;43m.\u001b[39;49m\u001b[43mget\u001b[49m\u001b[43m(\u001b[49m\u001b[38;5;124;43m\"\u001b[39;49m\u001b[38;5;124;43mcompression\u001b[39;49m\u001b[38;5;124;43m\"\u001b[39;49m\u001b[43m,\u001b[49m\u001b[43m \u001b[49m\u001b[38;5;28;43;01mNone\u001b[39;49;00m\u001b[43m)\u001b[49m\u001b[43m,\u001b[49m\n\u001b[0;32m   1222\u001b[0m \u001b[43m    \u001b[49m\u001b[43mmemory_map\u001b[49m\u001b[38;5;241;43m=\u001b[39;49m\u001b[38;5;28;43mself\u001b[39;49m\u001b[38;5;241;43m.\u001b[39;49m\u001b[43moptions\u001b[49m\u001b[38;5;241;43m.\u001b[39;49m\u001b[43mget\u001b[49m\u001b[43m(\u001b[49m\u001b[38;5;124;43m\"\u001b[39;49m\u001b[38;5;124;43mmemory_map\u001b[39;49m\u001b[38;5;124;43m\"\u001b[39;49m\u001b[43m,\u001b[49m\u001b[43m \u001b[49m\u001b[38;5;28;43;01mFalse\u001b[39;49;00m\u001b[43m)\u001b[49m\u001b[43m,\u001b[49m\n\u001b[0;32m   1223\u001b[0m \u001b[43m    \u001b[49m\u001b[43mis_text\u001b[49m\u001b[38;5;241;43m=\u001b[39;49m\u001b[43mis_text\u001b[49m\u001b[43m,\u001b[49m\n\u001b[0;32m   1224\u001b[0m \u001b[43m    \u001b[49m\u001b[43merrors\u001b[49m\u001b[38;5;241;43m=\u001b[39;49m\u001b[38;5;28;43mself\u001b[39;49m\u001b[38;5;241;43m.\u001b[39;49m\u001b[43moptions\u001b[49m\u001b[38;5;241;43m.\u001b[39;49m\u001b[43mget\u001b[49m\u001b[43m(\u001b[49m\u001b[38;5;124;43m\"\u001b[39;49m\u001b[38;5;124;43mencoding_errors\u001b[39;49m\u001b[38;5;124;43m\"\u001b[39;49m\u001b[43m,\u001b[49m\u001b[43m \u001b[49m\u001b[38;5;124;43m\"\u001b[39;49m\u001b[38;5;124;43mstrict\u001b[39;49m\u001b[38;5;124;43m\"\u001b[39;49m\u001b[43m)\u001b[49m\u001b[43m,\u001b[49m\n\u001b[0;32m   1225\u001b[0m \u001b[43m    \u001b[49m\u001b[43mstorage_options\u001b[49m\u001b[38;5;241;43m=\u001b[39;49m\u001b[38;5;28;43mself\u001b[39;49m\u001b[38;5;241;43m.\u001b[39;49m\u001b[43moptions\u001b[49m\u001b[38;5;241;43m.\u001b[39;49m\u001b[43mget\u001b[49m\u001b[43m(\u001b[49m\u001b[38;5;124;43m\"\u001b[39;49m\u001b[38;5;124;43mstorage_options\u001b[39;49m\u001b[38;5;124;43m\"\u001b[39;49m\u001b[43m,\u001b[49m\u001b[43m \u001b[49m\u001b[38;5;28;43;01mNone\u001b[39;49;00m\u001b[43m)\u001b[49m\u001b[43m,\u001b[49m\n\u001b[0;32m   1226\u001b[0m \u001b[43m\u001b[49m\u001b[43m)\u001b[49m\n\u001b[0;32m   1227\u001b[0m \u001b[38;5;28;01massert\u001b[39;00m \u001b[38;5;28mself\u001b[39m\u001b[38;5;241m.\u001b[39mhandles \u001b[38;5;129;01mis\u001b[39;00m \u001b[38;5;129;01mnot\u001b[39;00m \u001b[38;5;28;01mNone\u001b[39;00m\n\u001b[0;32m   1228\u001b[0m f \u001b[38;5;241m=\u001b[39m \u001b[38;5;28mself\u001b[39m\u001b[38;5;241m.\u001b[39mhandles\u001b[38;5;241m.\u001b[39mhandle\n",
      "File \u001b[1;32mC:\\ProgramData\\Anaconda3\\lib\\site-packages\\pandas\\io\\common.py:789\u001b[0m, in \u001b[0;36mget_handle\u001b[1;34m(path_or_buf, mode, encoding, compression, memory_map, is_text, errors, storage_options)\u001b[0m\n\u001b[0;32m    784\u001b[0m \u001b[38;5;28;01melif\u001b[39;00m \u001b[38;5;28misinstance\u001b[39m(handle, \u001b[38;5;28mstr\u001b[39m):\n\u001b[0;32m    785\u001b[0m     \u001b[38;5;66;03m# Check whether the filename is to be opened in binary mode.\u001b[39;00m\n\u001b[0;32m    786\u001b[0m     \u001b[38;5;66;03m# Binary mode does not support 'encoding' and 'newline'.\u001b[39;00m\n\u001b[0;32m    787\u001b[0m     \u001b[38;5;28;01mif\u001b[39;00m ioargs\u001b[38;5;241m.\u001b[39mencoding \u001b[38;5;129;01mand\u001b[39;00m \u001b[38;5;124m\"\u001b[39m\u001b[38;5;124mb\u001b[39m\u001b[38;5;124m\"\u001b[39m \u001b[38;5;129;01mnot\u001b[39;00m \u001b[38;5;129;01min\u001b[39;00m ioargs\u001b[38;5;241m.\u001b[39mmode:\n\u001b[0;32m    788\u001b[0m         \u001b[38;5;66;03m# Encoding\u001b[39;00m\n\u001b[1;32m--> 789\u001b[0m         handle \u001b[38;5;241m=\u001b[39m \u001b[38;5;28;43mopen\u001b[39;49m\u001b[43m(\u001b[49m\n\u001b[0;32m    790\u001b[0m \u001b[43m            \u001b[49m\u001b[43mhandle\u001b[49m\u001b[43m,\u001b[49m\n\u001b[0;32m    791\u001b[0m \u001b[43m            \u001b[49m\u001b[43mioargs\u001b[49m\u001b[38;5;241;43m.\u001b[39;49m\u001b[43mmode\u001b[49m\u001b[43m,\u001b[49m\n\u001b[0;32m    792\u001b[0m \u001b[43m            \u001b[49m\u001b[43mencoding\u001b[49m\u001b[38;5;241;43m=\u001b[39;49m\u001b[43mioargs\u001b[49m\u001b[38;5;241;43m.\u001b[39;49m\u001b[43mencoding\u001b[49m\u001b[43m,\u001b[49m\n\u001b[0;32m    793\u001b[0m \u001b[43m            \u001b[49m\u001b[43merrors\u001b[49m\u001b[38;5;241;43m=\u001b[39;49m\u001b[43merrors\u001b[49m\u001b[43m,\u001b[49m\n\u001b[0;32m    794\u001b[0m \u001b[43m            \u001b[49m\u001b[43mnewline\u001b[49m\u001b[38;5;241;43m=\u001b[39;49m\u001b[38;5;124;43m\"\u001b[39;49m\u001b[38;5;124;43m\"\u001b[39;49m\u001b[43m,\u001b[49m\n\u001b[0;32m    795\u001b[0m \u001b[43m        \u001b[49m\u001b[43m)\u001b[49m\n\u001b[0;32m    796\u001b[0m     \u001b[38;5;28;01melse\u001b[39;00m:\n\u001b[0;32m    797\u001b[0m         \u001b[38;5;66;03m# Binary mode\u001b[39;00m\n\u001b[0;32m    798\u001b[0m         handle \u001b[38;5;241m=\u001b[39m \u001b[38;5;28mopen\u001b[39m(handle, ioargs\u001b[38;5;241m.\u001b[39mmode)\n",
      "\u001b[1;31mFileNotFoundError\u001b[0m: [Errno 2] No such file or directory: 'saitama_stats.csv'"
     ]
    }
   ],
   "source": [
    "import folium\n",
    "import json\n",
    "import pandas as pd\n",
    "import geocoder\n",
    "#df = pd.read_csv('/content/drive/MyDrive/saitama_pref_python/programs/data/saitama_stats.csv',encoding='ms932', sep=',',skiprows=0)\n",
    "df = pd.read_csv('saitama_stats.csv',encoding='ms932', sep=',',skiprows=0)\n",
    "print(df)\n",
    "ret = geocoder.osm('浦和', timeout=5.0)\n",
    "print(ret)\n",
    "loc=ret.latlng\n",
    "kokudo_map ='https://cyberjapandata.gsi.go.jp/xyz/std/{z}/{x}/{y}.png'\n",
    "base_map = folium.Map(location=loc,tiles=kokudo_map,attr='標準地図',zoom_start=9.0)\n",
    "\n",
    "#base_map = folium.Map(location=[35.655616,139.338853],zoom_start=5)\n",
    "#folium.Choropleth(geo_data=json.load(open('/content/drive/MyDrive/saitama_pref_python/programs/data/saitama2.geojson','r',encoding=\"utf-8\")),\n",
    "folium.Choropleth(geo_data=json.load(open('saitama2.geojson','r',encoding=\"utf-8\")),\n",
    "                  data=df,\n",
    "                  columns=['市区町村','世帯数'],\n",
    "                  key_on='feature.properties.name', # geojsonのマッチングキー。必ずfeature.で始まり、それに続けてキー情報がある\n",
    "                                                    # ラベルの経路を.でつなぐ\n",
    "                  fill_color='YlOrRd').add_to(base_map)\n",
    "base_map"
   ]
  },
  {
   "cell_type": "markdown",
   "id": "8a1f4dc2",
   "metadata": {
    "id": "8a1f4dc2"
   },
   "source": [
    "## foliumによるコロプレス図参考リンク\n",
    "1. 埼玉県のコロプレス図プログラミング\n",
    "https://joho-ka.mints.ne.jp/express-vote-ratio-on-a-map?doing_wp_cron=1687531247.4428079128265380859375\n",
    "2. 国土交通省の市区町村geoJsonなど\n",
    "https://96lovefootball.hatenablog.com/entry/2019/03/17/210000\n"
   ]
  },
  {
   "cell_type": "code",
   "execution_count": null,
   "id": "13826d7c",
   "metadata": {
    "id": "13826d7c"
   },
   "outputs": [],
   "source": []
  }
 ],
 "metadata": {
  "colab": {
   "provenance": []
  },
  "kernelspec": {
   "display_name": "Python 3 (ipykernel)",
   "language": "python",
   "name": "python3"
  },
  "language_info": {
   "codemirror_mode": {
    "name": "ipython",
    "version": 3
   },
   "file_extension": ".py",
   "mimetype": "text/x-python",
   "name": "python",
   "nbconvert_exporter": "python",
   "pygments_lexer": "ipython3",
   "version": "3.9.12"
  }
 },
 "nbformat": 4,
 "nbformat_minor": 5
}
